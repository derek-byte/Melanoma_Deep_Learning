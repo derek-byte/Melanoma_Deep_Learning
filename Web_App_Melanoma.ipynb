{
  "cells": [
    {
      "cell_type": "markdown",
      "metadata": {
        "id": "view-in-github",
        "colab_type": "text"
      },
      "source": [
        "<a href=\"https://colab.research.google.com/github/derek-byte/Melanoma_Deep_Learning/blob/main/Web_App_Melanoma.ipynb\" target=\"_parent\"><img src=\"https://colab.research.google.com/assets/colab-badge.svg\" alt=\"Open In Colab\"/></a>"
      ]
    },
    {
      "cell_type": "code",
      "execution_count": null,
      "metadata": {
        "id": "6yDymsr1Twd0"
      },
      "outputs": [],
      "source": [
        "!pip install streamlit"
      ]
    },
    {
      "cell_type": "code",
      "execution_count": null,
      "metadata": {
        "colab": {
          "base_uri": "https://localhost:8080/"
        },
        "id": "STEz9c9oTysb",
        "outputId": "5569691d-69a8-4dc1-9260-576ef7114e6b"
      },
      "outputs": [
        {
          "name": "stdout",
          "output_type": "stream",
          "text": [
            "Collecting pyngrok\n",
            "  Downloading pyngrok-5.1.0.tar.gz (745 kB)\n",
            "\u001b[?25l\r\u001b[K     |▍                               | 10 kB 21.3 MB/s eta 0:00:01\r\u001b[K     |▉                               | 20 kB 12.3 MB/s eta 0:00:01\r\u001b[K     |█▎                              | 30 kB 7.5 MB/s eta 0:00:01\r\u001b[K     |█▊                              | 40 kB 6.7 MB/s eta 0:00:01\r\u001b[K     |██▏                             | 51 kB 4.5 MB/s eta 0:00:01\r\u001b[K     |██▋                             | 61 kB 5.3 MB/s eta 0:00:01\r\u001b[K     |███                             | 71 kB 5.6 MB/s eta 0:00:01\r\u001b[K     |███▌                            | 81 kB 4.9 MB/s eta 0:00:01\r\u001b[K     |████                            | 92 kB 5.5 MB/s eta 0:00:01\r\u001b[K     |████▍                           | 102 kB 5.1 MB/s eta 0:00:01\r\u001b[K     |████▉                           | 112 kB 5.1 MB/s eta 0:00:01\r\u001b[K     |█████▎                          | 122 kB 5.1 MB/s eta 0:00:01\r\u001b[K     |█████▊                          | 133 kB 5.1 MB/s eta 0:00:01\r\u001b[K     |██████▏                         | 143 kB 5.1 MB/s eta 0:00:01\r\u001b[K     |██████▋                         | 153 kB 5.1 MB/s eta 0:00:01\r\u001b[K     |███████                         | 163 kB 5.1 MB/s eta 0:00:01\r\u001b[K     |███████▌                        | 174 kB 5.1 MB/s eta 0:00:01\r\u001b[K     |████████                        | 184 kB 5.1 MB/s eta 0:00:01\r\u001b[K     |████████▍                       | 194 kB 5.1 MB/s eta 0:00:01\r\u001b[K     |████████▉                       | 204 kB 5.1 MB/s eta 0:00:01\r\u001b[K     |█████████▎                      | 215 kB 5.1 MB/s eta 0:00:01\r\u001b[K     |█████████▊                      | 225 kB 5.1 MB/s eta 0:00:01\r\u001b[K     |██████████▏                     | 235 kB 5.1 MB/s eta 0:00:01\r\u001b[K     |██████████▌                     | 245 kB 5.1 MB/s eta 0:00:01\r\u001b[K     |███████████                     | 256 kB 5.1 MB/s eta 0:00:01\r\u001b[K     |███████████▍                    | 266 kB 5.1 MB/s eta 0:00:01\r\u001b[K     |███████████▉                    | 276 kB 5.1 MB/s eta 0:00:01\r\u001b[K     |████████████▎                   | 286 kB 5.1 MB/s eta 0:00:01\r\u001b[K     |████████████▊                   | 296 kB 5.1 MB/s eta 0:00:01\r\u001b[K     |█████████████▏                  | 307 kB 5.1 MB/s eta 0:00:01\r\u001b[K     |█████████████▋                  | 317 kB 5.1 MB/s eta 0:00:01\r\u001b[K     |██████████████                  | 327 kB 5.1 MB/s eta 0:00:01\r\u001b[K     |██████████████▌                 | 337 kB 5.1 MB/s eta 0:00:01\r\u001b[K     |███████████████                 | 348 kB 5.1 MB/s eta 0:00:01\r\u001b[K     |███████████████▍                | 358 kB 5.1 MB/s eta 0:00:01\r\u001b[K     |███████████████▉                | 368 kB 5.1 MB/s eta 0:00:01\r\u001b[K     |████████████████▎               | 378 kB 5.1 MB/s eta 0:00:01\r\u001b[K     |████████████████▊               | 389 kB 5.1 MB/s eta 0:00:01\r\u001b[K     |█████████████████▏              | 399 kB 5.1 MB/s eta 0:00:01\r\u001b[K     |█████████████████▋              | 409 kB 5.1 MB/s eta 0:00:01\r\u001b[K     |██████████████████              | 419 kB 5.1 MB/s eta 0:00:01\r\u001b[K     |██████████████████▌             | 430 kB 5.1 MB/s eta 0:00:01\r\u001b[K     |███████████████████             | 440 kB 5.1 MB/s eta 0:00:01\r\u001b[K     |███████████████████▍            | 450 kB 5.1 MB/s eta 0:00:01\r\u001b[K     |███████████████████▉            | 460 kB 5.1 MB/s eta 0:00:01\r\u001b[K     |████████████████████▎           | 471 kB 5.1 MB/s eta 0:00:01\r\u001b[K     |████████████████████▋           | 481 kB 5.1 MB/s eta 0:00:01\r\u001b[K     |█████████████████████           | 491 kB 5.1 MB/s eta 0:00:01\r\u001b[K     |█████████████████████▌          | 501 kB 5.1 MB/s eta 0:00:01\r\u001b[K     |██████████████████████          | 512 kB 5.1 MB/s eta 0:00:01\r\u001b[K     |██████████████████████▍         | 522 kB 5.1 MB/s eta 0:00:01\r\u001b[K     |██████████████████████▉         | 532 kB 5.1 MB/s eta 0:00:01\r\u001b[K     |███████████████████████▎        | 542 kB 5.1 MB/s eta 0:00:01\r\u001b[K     |███████████████████████▊        | 552 kB 5.1 MB/s eta 0:00:01\r\u001b[K     |████████████████████████▏       | 563 kB 5.1 MB/s eta 0:00:01\r\u001b[K     |████████████████████████▋       | 573 kB 5.1 MB/s eta 0:00:01\r\u001b[K     |█████████████████████████       | 583 kB 5.1 MB/s eta 0:00:01\r\u001b[K     |█████████████████████████▌      | 593 kB 5.1 MB/s eta 0:00:01\r\u001b[K     |██████████████████████████      | 604 kB 5.1 MB/s eta 0:00:01\r\u001b[K     |██████████████████████████▍     | 614 kB 5.1 MB/s eta 0:00:01\r\u001b[K     |██████████████████████████▉     | 624 kB 5.1 MB/s eta 0:00:01\r\u001b[K     |███████████████████████████▎    | 634 kB 5.1 MB/s eta 0:00:01\r\u001b[K     |███████████████████████████▊    | 645 kB 5.1 MB/s eta 0:00:01\r\u001b[K     |████████████████████████████▏   | 655 kB 5.1 MB/s eta 0:00:01\r\u001b[K     |████████████████████████████▋   | 665 kB 5.1 MB/s eta 0:00:01\r\u001b[K     |█████████████████████████████   | 675 kB 5.1 MB/s eta 0:00:01\r\u001b[K     |█████████████████████████████▌  | 686 kB 5.1 MB/s eta 0:00:01\r\u001b[K     |██████████████████████████████  | 696 kB 5.1 MB/s eta 0:00:01\r\u001b[K     |██████████████████████████████▍ | 706 kB 5.1 MB/s eta 0:00:01\r\u001b[K     |██████████████████████████████▊ | 716 kB 5.1 MB/s eta 0:00:01\r\u001b[K     |███████████████████████████████▏| 727 kB 5.1 MB/s eta 0:00:01\r\u001b[K     |███████████████████████████████▋| 737 kB 5.1 MB/s eta 0:00:01\r\u001b[K     |████████████████████████████████| 745 kB 5.1 MB/s \n",
            "\u001b[?25hRequirement already satisfied: PyYAML in /usr/local/lib/python3.7/dist-packages (from pyngrok) (3.13)\n",
            "Building wheels for collected packages: pyngrok\n",
            "  Building wheel for pyngrok (setup.py) ... \u001b[?25l\u001b[?25hdone\n",
            "  Created wheel for pyngrok: filename=pyngrok-5.1.0-py3-none-any.whl size=19007 sha256=1fbfd8cd5325decbe26d35ca40c41b549535ed72b0a07d50f69d325ca570ec7e\n",
            "  Stored in directory: /root/.cache/pip/wheels/bf/e6/af/ccf6598ecefecd44104069371795cb9b3afbcd16987f6ccfb3\n",
            "Successfully built pyngrok\n",
            "Installing collected packages: pyngrok\n",
            "Successfully installed pyngrok-5.1.0\n"
          ]
        }
      ],
      "source": [
        "!pip install pyngrok"
      ]
    },
    {
      "cell_type": "code",
      "execution_count": null,
      "metadata": {
        "colab": {
          "base_uri": "https://localhost:8080/"
        },
        "id": "q4OEssG-Tz8h",
        "outputId": "77be750d-a55a-4ff8-ea44-2f80eeb700bd"
      },
      "outputs": [
        {
          "name": "stdout",
          "output_type": "stream",
          "text": [
            "Authtoken saved to configuration file: /root/.ngrok2/ngrok.yml\n"
          ]
        }
      ],
      "source": [
        "!ngrok authtoken 26myWhdKL3FJvSiQfVOLduesolf_3iGZpQGynAH14orGSyv9z"
      ]
    },
    {
      "cell_type": "code",
      "execution_count": null,
      "metadata": {
        "colab": {
          "base_uri": "https://localhost:8080/"
        },
        "id": "nnETCMY5T1Xr",
        "outputId": "26ea9c2d-071e-4357-f29b-8aad079bf9ae"
      },
      "outputs": [
        {
          "name": "stdout",
          "output_type": "stream",
          "text": [
            "Writing app.py\n"
          ]
        }
      ],
      "source": [
        "%%writefile app.py\n",
        "\n",
        "import streamlit as st\n",
        "import cv2\n",
        "import numpy as np\n",
        "import tensorflow as tf\n",
        "from tensorflow.keras.preprocessing import image \n",
        "from tensorflow.keras.applications.mobilenet_v2 import MobileNetV2, preprocess_input as mobile \n",
        "import tensorflow_hub as hub\n",
        "import matplotlib.pylab as plt\n",
        "import os\n",
        "import random\n",
        "\n",
        "labels = ['Melanoma', 'NotMelanoma']\n",
        "\n",
        "from PIL import Image, ImageOps\n",
        "@st.cache\n",
        "def load_image(image_file):\n",
        "  img = Image.open(image_file)\n",
        "  return img\n",
        "\n",
        "def upload(filename):\n",
        "    img = cv2.imread(filename)\n",
        "    img = cv2.resize(img, (224, 224) )\n",
        "    img = img /255\n",
        "    return img\n",
        "\n",
        "st.title(\"Melanoma Detection\")\n",
        "\n",
        "path = \"/content/drive/MyDrive/Melanoma_Models_Good_Copy\"\n",
        "reloaded = tf.keras.models.load_model(path, custom_objects={'KerasLayer':hub.KerasLayer})\n",
        "def predict_reload(image):\n",
        "    probabilities = reloaded.predict(np.asarray([img]))[0]\n",
        "    class_idx = np.argmax(probabilities)\n",
        "    return {labels[class_idx]: probabilities[class_idx]}\n",
        "\n",
        "uploaded_file = st.file_uploader(\"Choose an image file\", type=[\"png\", \"jpeg\", \"jpg\", \"svg\"])\n",
        "\n",
        "if uploaded_file is not None:\n",
        "  # Convert the file to an opencv image\n",
        "  file_bytes = np.asarray(bytearray(uploaded_file.read()),dtype=np.uint8)\n",
        "  opencv_image = cv2.imdecode(file_bytes, 1)\n",
        "  opencv_image = cv2.cvtColor(opencv_image, cv2.COLOR_BGR2RGB)\n",
        "  resized = cv2.resize(opencv_image, (224,224))\n",
        "  st.image(load_image(uploaded_file), width=224)\n",
        "\n",
        "  # Saving File\n",
        "  complete_path = os.path.join(\"/content/Melanoma_Images\", uploaded_file.name)\n",
        "\n",
        "  # CREATE THIS FILE SOURCE EVERYTIME ON GOOGLE COLAB\n",
        "  with open(complete_path, \"wb\") as f:\n",
        "    f.write(uploaded_file.getbuffer())\n",
        "  st.success(\"File Saved\")\n",
        "\n",
        "  # Download to google drive?\n",
        "\n",
        "  train_datagen = tf.keras.preprocessing.image.ImageDataGenerator(\n",
        "      rescale = 1./255,\n",
        "      rotation_range=40,\n",
        "      horizontal_flip=True,\n",
        "      width_shift_range=0.2, \n",
        "      height_shift_range=0.2,\n",
        "      shear_range=0.2, \n",
        "      zoom_range=0.2,\n",
        "      fill_mode='nearest',\n",
        "      validation_split=0.3)\n",
        "  \n",
        "  validation_generator = train_datagen.flow_from_directory(\n",
        "    \"/content/Melanoma_Images\", \n",
        "    color_mode=\"rgb\", \n",
        "    shuffle=False, \n",
        "    seed=None,\n",
        "    class_mode=\"categorical\",\n",
        "    subset=\"validation\",\n",
        "    target_size=(224,224),\n",
        "    batch_size=1)\n",
        "\n",
        "  img = upload(complete_path)\n",
        "  prediction = predict_reload(img)\n",
        "  st.success(\"PREDICTED: class: %s, confidence: %f\" % (list(prediction.keys())[0], list(prediction.values())[0]))"
      ]
    },
    {
      "cell_type": "code",
      "execution_count": null,
      "metadata": {
        "colab": {
          "base_uri": "https://localhost:8080/"
        },
        "id": "2Ga5HTsOT331",
        "outputId": "aea8e979-c554-4bbc-975c-da82b2eb37eb"
      },
      "outputs": [
        {
          "output_type": "stream",
          "name": "stdout",
          "text": [
            "NgrokTunnel: \"http://2e6e-35-229-87-228.ngrok.io\" -> \"http://localhost:80\"\n",
            "2022-04-06 14:16:09.634 INFO    numexpr.utils: NumExpr defaulting to 2 threads.\n",
            "2022-04-06 14:16:19.017071: E tensorflow/stream_executor/cuda/cuda_driver.cc:271] failed call to cuInit: CUDA_ERROR_NO_DEVICE: no CUDA-capable device is detected\n",
            "2022-04-06 14:16:19.025 Using /tmp/tfhub_modules to cache modules.\n"
          ]
        }
      ],
      "source": [
        "from pyngrok import ngrok\n",
        "# Setup a tunnel to the streamlit port 8501\n",
        "public_url = ngrok.connect(port='80')\n",
        "print(public_url)\n",
        "!streamlit run --server.port 80 app.py >/dev/null\n"
      ]
    },
    {
      "cell_type": "code",
      "execution_count": 6,
      "metadata": {
        "id": "J-GBYZgnT5eI"
      },
      "outputs": [],
      "source": [
        "!pgrep streamlit"
      ]
    }
  ],
  "metadata": {
    "colab": {
      "name": "Web_App_Melanoma.ipynb",
      "provenance": [],
      "mount_file_id": "14ohBPHCn8CbOhxT2tb6oqbWUQnrGyDzo",
      "authorship_tag": "ABX9TyMWnECIbAt7OuQTF2lcYHu+",
      "include_colab_link": true
    },
    "kernelspec": {
      "display_name": "Python 3",
      "name": "python3"
    },
    "language_info": {
      "name": "python"
    }
  },
  "nbformat": 4,
  "nbformat_minor": 0
}