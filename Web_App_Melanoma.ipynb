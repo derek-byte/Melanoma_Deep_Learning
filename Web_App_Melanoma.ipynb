{
  "nbformat": 4,
  "nbformat_minor": 0,
  "metadata": {
    "colab": {
      "name": "Web_App_Melanoma.ipynb",
      "provenance": [],
      "mount_file_id": "14ohBPHCn8CbOhxT2tb6oqbWUQnrGyDzo",
      "authorship_tag": "ABX9TyO4xgIb/zJwz/klm/ai3Ndd",
      "include_colab_link": true
    },
    "kernelspec": {
      "name": "python3",
      "display_name": "Python 3"
    },
    "language_info": {
      "name": "python"
    }
  },
  "cells": [
    {
      "cell_type": "markdown",
      "metadata": {
        "id": "view-in-github",
        "colab_type": "text"
      },
      "source": [
        "<a href=\"https://colab.research.google.com/github/derek-byte/Melanoma_Deep_Learning/blob/main/Web_App_Melanoma.ipynb\" target=\"_parent\"><img src=\"https://colab.research.google.com/assets/colab-badge.svg\" alt=\"Open In Colab\"/></a>"
      ]
    },
    {
      "cell_type": "code",
      "execution_count": null,
      "metadata": {
        "id": "6yDymsr1Twd0"
      },
      "outputs": [],
      "source": [
        "!pip install streamlit"
      ]
    },
    {
      "cell_type": "code",
      "source": [
        "!pip install pyngrok"
      ],
      "metadata": {
        "id": "STEz9c9oTysb"
      },
      "execution_count": null,
      "outputs": []
    },
    {
      "cell_type": "code",
      "source": [
        "!ngrok authtoken 26myWhdKL3FJvSiQfVOLduesolf_3iGZpQGynAH14orGSyv9z"
      ],
      "metadata": {
        "colab": {
          "base_uri": "https://localhost:8080/"
        },
        "id": "q4OEssG-Tz8h",
        "outputId": "65df416a-758b-4f40-d534-0c943b6cab32"
      },
      "execution_count": 3,
      "outputs": [
        {
          "output_type": "stream",
          "name": "stdout",
          "text": [
            "Authtoken saved to configuration file: /root/.ngrok2/ngrok.yml\n"
          ]
        }
      ]
    },
    {
      "cell_type": "code",
      "source": [
        "%%writefile app.py\n",
        "\n",
        "import streamlit as st\n",
        "import cv2\n",
        "import numpy as np\n",
        "import tensorflow as tf\n",
        "from tensorflow.keras.preprocessing import image \n",
        "from tensorflow.keras.applications.mobilenet_v2 import MobileNetV2, preprocess_input as mobile \n",
        "import tensorflow_hub as hub\n",
        "import matplotlib.pylab as plt\n",
        "import os\n",
        "import random\n",
        "\n",
        "labels = ['Melanoma', 'NotMelanoma']\n",
        "\n",
        "from PIL import Image, ImageOps\n",
        "@st.cache\n",
        "def load_image(image_file):\n",
        "  img = Image.open(image_file)\n",
        "  return img\n",
        "\n",
        "def upload(filename):\n",
        "    img = cv2.imread(filename)\n",
        "    img = cv2.resize(img, (224, 224) )\n",
        "    img = img /255\n",
        "    return img\n",
        "\n",
        "st.title(\"Melanoma Detection\")\n",
        "\n",
        "path = \"/content/drive/MyDrive/Melanoma_Models_Good_Copy\"\n",
        "reloaded = tf.keras.models.load_model(path, custom_objects={'KerasLayer':hub.KerasLayer})\n",
        "def predict_reload(image):\n",
        "    probabilities = reloaded.predict(np.asarray([img]))[0]\n",
        "    class_idx = np.argmax(probabilities)\n",
        "    return {labels[class_idx]: probabilities[class_idx]}\n",
        "\n",
        "uploaded_file = st.file_uploader(\"Choose an image file\", type=[\"png\", \"jpeg\", \"jpg\", \"svg\"])\n",
        "\n",
        "if uploaded_file is not None:\n",
        "  # Convert the file to an opencv image\n",
        "  file_bytes = np.asarray(bytearray(uploaded_file.read()),dtype=np.uint8)\n",
        "  opencv_image = cv2.imdecode(file_bytes, 1)\n",
        "  opencv_image = cv2.cvtColor(opencv_image, cv2.COLOR_BGR2RGB)\n",
        "  resized = cv2.resize(opencv_image, (224,224))\n",
        "  st.image(load_image(uploaded_file), width=224)\n",
        "\n",
        "  # Saving File\n",
        "  complete_path = os.path.join(\"/content/Melanoma_Images\", uploaded_file.name)\n",
        "  with open(complete_path, \"wb\") as f:\n",
        "    f.write(uploaded_file.getbuffer())\n",
        "  st.success(\"File Saved\")\n",
        "\n",
        "  # Download to google drive?\n",
        "\n",
        "  train_datagen = tf.keras.preprocessing.image.ImageDataGenerator(\n",
        "      rescale = 1./255,\n",
        "      rotation_range=40,\n",
        "      horizontal_flip=True,\n",
        "      width_shift_range=0.2, \n",
        "      height_shift_range=0.2,\n",
        "      shear_range=0.2, \n",
        "      zoom_range=0.2,\n",
        "      fill_mode='nearest',\n",
        "      validation_split=0.3)\n",
        "  \n",
        "  validation_generator = train_datagen.flow_from_directory(\n",
        "    \"/content/Melanoma_Images\", \n",
        "    color_mode=\"rgb\", \n",
        "    shuffle=False, \n",
        "    seed=None,\n",
        "    class_mode=\"categorical\",\n",
        "    subset=\"validation\",\n",
        "    target_size=(224,224),\n",
        "    batch_size=1)\n",
        "\n",
        "  img = upload(complete_path)\n",
        "  prediction = predict_reload(img)\n",
        "  st.success(\"PREDICTED: class: %s, confidence: %f\" % (list(prediction.keys())[0], list(prediction.values())[0]))"
      ],
      "metadata": {
        "colab": {
          "base_uri": "https://localhost:8080/"
        },
        "id": "nnETCMY5T1Xr",
        "outputId": "d3feb02d-0795-415d-d3d2-d3a48b798677"
      },
      "execution_count": 64,
      "outputs": [
        {
          "output_type": "stream",
          "name": "stdout",
          "text": [
            "Overwriting app.py\n"
          ]
        }
      ]
    },
    {
      "cell_type": "code",
      "source": [
        "from pyngrok import ngrok\n",
        "# Setup a tunnel to the streamlit port 8501\n",
        "public_url = ngrok.connect(port='80')\n",
        "print(public_url)\n",
        "!streamlit run --server.port 80 app.py >/dev/null\n"
      ],
      "metadata": {
        "colab": {
          "base_uri": "https://localhost:8080/"
        },
        "id": "2Ga5HTsOT331",
        "outputId": "d3b376e5-caca-4431-ee1b-b417b39b17d2"
      },
      "execution_count": null,
      "outputs": [
        {
          "output_type": "stream",
          "name": "stdout",
          "text": [
            "NgrokTunnel: \"http://cf36-35-237-121-254.ngrok.io\" -> \"http://localhost:80\"\n",
            "2022-04-06 02:25:56.974 INFO    numexpr.utils: NumExpr defaulting to 2 threads.\n",
            "2022-04-06 02:26:05.804179: E tensorflow/stream_executor/cuda/cuda_driver.cc:271] failed call to cuInit: CUDA_ERROR_NO_DEVICE: no CUDA-capable device is detected\n",
            "2022-04-06 02:26:05.814 Using /tmp/tfhub_modules to cache modules.\n"
          ]
        }
      ]
    },
    {
      "cell_type": "code",
      "source": [
        "!pgrep streamlit"
      ],
      "metadata": {
        "id": "J-GBYZgnT5eI"
      },
      "execution_count": null,
      "outputs": []
    }
  ]
}