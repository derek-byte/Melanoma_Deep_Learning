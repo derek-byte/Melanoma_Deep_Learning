{
  "cells": [
    {
      "cell_type": "markdown",
      "metadata": {
        "id": "view-in-github",
        "colab_type": "text"
      },
      "source": [
        "<a href=\"https://colab.research.google.com/github/derek-byte/Melanoma_Deep_Learning/blob/main/MELANOMA_DETECTION.ipynb\" target=\"_parent\"><img src=\"https://colab.research.google.com/assets/colab-badge.svg\" alt=\"Open In Colab\"/></a>"
      ]
    },
    {
      "cell_type": "code",
      "execution_count": 1,
      "metadata": {
        "id": "GhSh2ApOTmfg"
      },
      "outputs": [],
      "source": [
        "import tensorflow as tf\n",
        "import tensorflow_hub as hub\n",
        "import os\n",
        "from keras.models import Sequential\n",
        "from tensorflow.keras.layers import Dense\n",
        "from tensorflow.keras.layers import Flatten\n",
        "from tensorflow.keras.layers import Conv2D\n",
        "from tensorflow.keras.layers import Dropout\n",
        "from tensorflow.keras import Model\n",
        "from tensorflow.keras.preprocessing.image import ImageDataGenerator\n",
        "from tensorflow.keras.optimizers import Adam\n",
        "from tensorflow.keras import layers"
      ]
    },
    {
      "cell_type": "code",
      "execution_count": 3,
      "metadata": {
        "colab": {
          "base_uri": "https://localhost:8080/"
        },
        "id": "qOxg8j48To7R",
        "outputId": "5a2a73f0-c337-4149-95dd-e44ee0b4934d"
      },
      "outputs": [
        {
          "output_type": "stream",
          "name": "stdout",
          "text": [
            "class : Melanoma , NotMelanoma\n"
          ]
        }
      ],
      "source": [
        "train_dir='/content/drive/MyDrive/Melanoma_Dataset/train'\n",
        "labels = ['Melanoma', 'NotMelanoma']\n",
        "print (\"class :\", labels[0], \",\", labels[1]) "
      ]
    },
    {
      "cell_type": "code",
      "execution_count": 4,
      "metadata": {
        "id": "JV2boX9MTyf5"
      },
      "outputs": [],
      "source": [
        "handle_base = \"mobilenet_v2\"\n",
        "FV_SIZE = 1280\n",
        "MODULE_HANDLE =\"https://tfhub.dev/google/tf2-preview/{}/feature_vector/2\".format(handle_base)\n",
        "IMAGE_SIZE = (224, 224)\n",
        "BATCH_SIZE = 16 "
      ]
    },
    {
      "cell_type": "code",
      "execution_count": 5,
      "metadata": {
        "id": "Fs73QHIpT0TW",
        "colab": {
          "base_uri": "https://localhost:8080/"
        },
        "outputId": "0a087e60-3024-465f-947e-2d95d5316a27"
      },
      "outputs": [
        {
          "output_type": "stream",
          "name": "stdout",
          "text": [
            "Found 7290 images belonging to 2 classes.\n",
            "Found 3123 images belonging to 2 classes.\n"
          ]
        }
      ],
      "source": [
        "train_datagen = tf.keras.preprocessing.image.ImageDataGenerator(\n",
        "      rescale = 1./255,\n",
        "      rotation_range=40,\n",
        "      horizontal_flip=True,\n",
        "      width_shift_range=0.2, \n",
        "      height_shift_range=0.2,\n",
        "      shear_range=0.2, \n",
        "      zoom_range=0.2,\n",
        "      fill_mode='nearest',\n",
        "      validation_split=0.3)\n",
        "  \n",
        "train_generator = train_datagen.flow_from_directory(\n",
        "    train_dir, \n",
        "    subset=\"training\", \n",
        "    shuffle=True, \n",
        "    seed=42,\n",
        "    color_mode=\"rgb\", \n",
        "    class_mode=\"categorical\",\n",
        "    target_size=IMAGE_SIZE,\n",
        "    batch_size=BATCH_SIZE)\n",
        "validation_generator = train_datagen.flow_from_directory(\n",
        "    train_dir, \n",
        "    shuffle=False, \n",
        "    seed=42,\n",
        "    color_mode=\"rgb\", \n",
        "    class_mode=\"categorical\",\n",
        "    subset=\"validation\",\n",
        "    target_size=IMAGE_SIZE,\n",
        "    batch_size=BATCH_SIZE)"
      ]
    },
    {
      "cell_type": "code",
      "execution_count": 6,
      "metadata": {
        "id": "XBHz5ZOIT3aN",
        "colab": {
          "base_uri": "https://localhost:8080/"
        },
        "outputId": "41b98140-06fc-4e82-e665-c45781d41758"
      },
      "outputs": [
        {
          "output_type": "stream",
          "name": "stdout",
          "text": [
            "Building model with https://tfhub.dev/google/tf2-preview/mobilenet_v2/feature_vector/2\n",
            "Model: \"sequential\"\n",
            "_________________________________________________________________\n",
            " Layer (type)                Output Shape              Param #   \n",
            "=================================================================\n",
            " keras_layer (KerasLayer)    (None, 1280)              2257984   \n",
            "                                                                 \n",
            " flatten (Flatten)           (None, 1280)              0         \n",
            "                                                                 \n",
            " dense (Dense)               (None, 512)               655872    \n",
            "                                                                 \n",
            " dropout (Dropout)           (None, 512)               0         \n",
            "                                                                 \n",
            " dense_1 (Dense)             (None, 2)                 1026      \n",
            "                                                                 \n",
            "=================================================================\n",
            "Total params: 2,914,882\n",
            "Trainable params: 656,898\n",
            "Non-trainable params: 2,257,984\n",
            "_________________________________________________________________\n"
          ]
        }
      ],
      "source": [
        "feature_extractor = hub.KerasLayer(MODULE_HANDLE,input_shape=IMAGE_SIZE+(3,), output_shape=[FV_SIZE])\n",
        "do_fine_tuning = False \n",
        "if do_fine_tuning:\n",
        "  feature_extractor.trainable = True\n",
        "  for layer in base_model.layers[-30:]:\n",
        "    layer.trainable =True\n",
        "  \n",
        "else:\n",
        "  feature_extractor.trainable = False\n",
        "print(\"Building model with\", MODULE_HANDLE)\n",
        "model = tf.keras.Sequential([\n",
        "    feature_extractor,\n",
        "    tf.keras.layers.Flatten(),\n",
        "    tf.keras.layers.Dense(512, activation='relu'),\n",
        "    tf.keras.layers.Dropout(rate=0.2),\n",
        "    tf.keras.layers.Dense(train_generator.num_classes, activation='softmax',\n",
        "                           kernel_regularizer=tf.keras.regularizers.l2(0.0001))\n",
        "])\n",
        "model.summary()"
      ]
    },
    {
      "cell_type": "code",
      "execution_count": null,
      "metadata": {
        "id": "UmKdD8ONT5BJ"
      },
      "outputs": [],
      "source": [
        "LEARNING_RATE = 0.001 \n",
        "model.compile(\n",
        "   optimizer=tf.keras.optimizers.Adam(learning_rate=LEARNING_RATE), \n",
        "   loss='categorical_crossentropy',\n",
        "   metrics=['accuracy'])"
      ]
    },
    {
      "cell_type": "code",
      "execution_count": null,
      "metadata": {
        "id": "AMNom4DTT7Jl"
      },
      "outputs": [],
      "source": [
        "EPOCHS=15\n",
        "history = model.fit(\n",
        "        train_generator,\n",
        "        # steps_per_epoch = train_generator.samples//train_generator.batch_size,\n",
        "        steps_per_epoch = 10,\n",
        "        epochs=EPOCHS,\n",
        "        validation_data=validation_generator,\n",
        "        validation_steps=validation_generator.samples//validation_generator.batch_size)"
      ]
    },
    {
      "cell_type": "markdown",
      "metadata": {
        "id": "DALcx8olocob"
      },
      "source": [
        "Checking Performance"
      ]
    },
    {
      "cell_type": "code",
      "execution_count": null,
      "metadata": {
        "id": "DPUbxKBvoe1v"
      },
      "outputs": [],
      "source": [
        "import matplotlib.pylab as plt\n",
        "import numpy as np\n",
        "\n",
        "acc = history.history['accuracy']\n",
        "val_acc = history.history['val_accuracy']\n",
        "\n",
        "loss = history.history['loss']\n",
        "val_loss = history.history['val_loss']\n",
        "\n",
        "epochs_range = range(EPOCHS)\n",
        "\n",
        "plt.figure(figsize=(10, 4))\n",
        "plt.subplot(1, 2, 1)\n",
        "plt.plot(epochs_range, acc, label='Training Accuracy')\n",
        "plt.plot(epochs_range, val_acc, label='Validation Accuracy')\n",
        "plt.legend(loc='lower right')\n",
        "plt.title('Training and Validation Accuracy')\n",
        "plt.ylabel(\"Accuracy (training and validation)\")\n",
        "plt.xlabel(\"Training Steps\")\n",
        "\n",
        "plt.subplot(1, 2, 2)\n",
        "plt.plot(epochs_range, loss, label='Training Loss')\n",
        "plt.plot(epochs_range, val_loss, label='Validation Loss')\n",
        "plt.legend(loc='upper right')\n",
        "plt.title('Training and Validation Loss')\n",
        "plt.ylabel(\"Loss (training and validation)\")\n",
        "plt.xlabel(\"Training Steps\")\n",
        "plt.show()"
      ]
    },
    {
      "cell_type": "markdown",
      "metadata": {
        "id": "ruP-tX7eownE"
      },
      "source": [
        "Test At Random"
      ]
    },
    {
      "cell_type": "code",
      "execution_count": null,
      "metadata": {
        "id": "cQh7RwAXouI3"
      },
      "outputs": [],
      "source": [
        "import random\n",
        "import cv2\n",
        "def upload(filename):\n",
        "    img = cv2.imread(os.path.join(train_dir, filename))\n",
        "    img = cv2.resize(img, (224, 224) )\n",
        "    img = img /255\n",
        "    return img\n",
        "def pre_result(image):\n",
        "    x = model.predict(np.asarray([img]))[0]\n",
        "    classx = np.argmax(x)\n",
        "    return {labels[classx]: x[classx]}\n",
        "images = random.sample(validation_generator.filenames, 16)\n",
        "for idx, filename in enumerate(images):\n",
        "    img = upload(filename)\n",
        "    prediction = pre_result(img)\n",
        "    print(\"SOURCE: class: %s, file: %s\" % (os.path.split(filename)[0], filename))\n",
        "    print(\"class: %s, Confidence: %f\" % (list(prediction.keys())[0], list(prediction.values())[0]))\n",
        "    plt.imshow(img)\n",
        "    plt.figure(idx)    \n",
        "    plt.show()"
      ]
    },
    {
      "cell_type": "markdown",
      "metadata": {
        "id": "ad-0nZ5io1Kz"
      },
      "source": [
        "Confusion Matrix"
      ]
    },
    {
      "cell_type": "code",
      "execution_count": null,
      "metadata": {
        "colab": {
          "base_uri": "https://localhost:8080/"
        },
        "id": "GMy009hxou4Q",
        "outputId": "3e12642e-f039-4736-a174-4be106912cc3"
      },
      "outputs": [
        {
          "name": "stdout",
          "output_type": "stream",
          "text": [
            "Classification Report\n",
            "              precision    recall  f1-score   support\n",
            "\n",
            "    Melanoma       0.97      0.99      0.98      1521\n",
            " NotMelanoma       0.99      0.97      0.98      1602\n",
            "\n",
            "    accuracy                           0.98      3123\n",
            "   macro avg       0.98      0.98      0.98      3123\n",
            "weighted avg       0.98      0.98      0.98      3123\n",
            "\n",
            "196/196 [==============================] - 94s 477ms/step - loss: 0.0684 - accuracy: 0.9808\n",
            "[0.06840399652719498, 0.9807876944541931]\n"
          ]
        }
      ],
      "source": [
        "from sklearn.metrics import classification_report, confusion_matrix\n",
        "\n",
        "predictions1 = model.predict(validation_generator, steps=len(validation_generator))\n",
        "y = np.argmax(predictions1, axis=1)\n",
        "\n",
        "print('Classification Report')\n",
        "report = classification_report(y_true=validation_generator.classes, y_pred=y, target_names=validation_generator.class_indices)\n",
        "print(report)\n",
        "\n",
        "evaluates = model.evaluate(validation_generator)\n",
        "print(evaluates)"
      ]
    },
    {
      "cell_type": "code",
      "execution_count": null,
      "metadata": {
        "colab": {
          "base_uri": "https://localhost:8080/",
          "height": 463
        },
        "id": "cQyGLTSUwKbs",
        "outputId": "1d370a55-9964-446c-88ef-fd432d3b55fe"
      },
      "outputs": [
        {
          "name": "stdout",
          "output_type": "stream",
          "text": [
            "Confusion Matrix\n"
          ]
        },
        {
          "data": {
            "text/plain": [
              "<matplotlib.axes._subplots.AxesSubplot at 0x7f0ab73d9f90>"
            ]
          },
          "execution_count": 79,
          "metadata": {},
          "output_type": "execute_result"
        },
        {
          "data": {
            "image/png": "[encoded data removed]",
            "text/plain": [
              "<Figure size 720x504 with 2 Axes>"
            ]
          },
          "metadata": {},
          "output_type": "display_data"
        }
      ],
      "source": [
        "import pandas as pd\n",
        "import numpy as np\n",
        "import seaborn as sn\n",
        "print('Confusion Matrix')\n",
        "cm = confusion_matrix(validation_generator.classes, y)\n",
        "data_frame = pd.DataFrame(cm, columns=validation_generator.class_indices)\n",
        "plt.figure(figsize=(10,7))\n",
        "sn.heatmap(data_frame, annot=True)"
      ]
    },
    {
      "cell_type": "markdown",
      "metadata": {
        "id": "Il-pFpxfo6hA"
      },
      "source": [
        "Export as Saved Model and Convert to TFLite"
      ]
    },
    {
      "cell_type": "code",
      "execution_count": null,
      "metadata": {
        "id": "615AuC17o_HR"
      },
      "outputs": [],
      "source": [
        "import time\n",
        "t = time.time()\n",
        "export_path = \"/content/drive/MyDrive/Melanoma_Models{}\".format(int(t))\n",
        "tf.keras.models.save_model(model, export_path)\n",
        "export_path"
      ]
    },
    {
      "cell_type": "code",
      "execution_count": null,
      "metadata": {
        "id": "MMQgWjqVpArQ"
      },
      "outputs": [],
      "source": [
        "# Now confirm that we can reload it, and it still gives the same results\n",
        "path = \"/content/drive/MyDrive/Melanoma_Models_Good_Copy\"\n",
        "reloaded = tf.keras.models.load_model(path, custom_objects={'KerasLayer':hub.KerasLayer})\n",
        "def predict_reload(image):\n",
        "    probabilities = reloaded.predict(np.asarray([img]))[0]\n",
        "    class_idx = np.argmax(probabilities)\n",
        "    return {labels[class_idx]: probabilities[class_idx]}"
      ]
    },
    {
      "cell_type": "code",
      "execution_count": null,
      "metadata": {
        "id": "9opz7p24pD8x"
      },
      "outputs": [],
      "source": [
        "for idx, filename in enumerate(random.sample(validation_generator.filenames, 2)):\n",
        "    print(\"SOURCE: class: %s, file: %s\" % (os.path.split(filename)[0], filename))\n",
        "    img = upload(filename)\n",
        "    prediction = predict_reload(img)\n",
        "    print(\"PREDICTED: class: %s, confidence: %f\" % (list(prediction.keys())[0], list(prediction.values())[0]))\n",
        "    plt.imshow(img)\n",
        "    plt.figure(idx)    \n",
        "    plt.show()"
      ]
    },
    {
      "cell_type": "code",
      "execution_count": null,
      "metadata": {
        "id": "0FdrC-vcpFvc"
      },
      "outputs": [],
      "source": [
        "# # convert the model to TFLite\n",
        "# !mkdir \"tflite_models\"\n",
        "# TFLITE_MODEL = \"tflite_models/model.tflite\"\n",
        "# # Get the concrete function from the Keras model.\n",
        "# run_model = tf.function(lambda x : reloaded(x))\n",
        "# # Save the concrete function.\n",
        "# concrete_func = run_model.get_concrete_function(\n",
        "#     tf.TensorSpec(model.inputs[0].shape, model.inputs[0].dtype)\n",
        "# )\n",
        "# # Convert the model to standard TensorFlow Lite model\n",
        "# converter = tf.lite.TFLiteConverter.from_concrete_functions([concrete_func])\n",
        "# converted_tflite_model = converter.convert()\n",
        "# open(TFLITE_MODEL, \"wb\").write(converted_tflite_model)"
      ]
    },
    {
      "cell_type": "markdown",
      "metadata": {
        "id": "1LQb4ysv0Umj"
      },
      "source": [
        "Flask Web App"
      ]
    },
    {
      "cell_type": "code",
      "execution_count": null,
      "metadata": {
        "colab": {
          "base_uri": "https://localhost:8080/"
        },
        "id": "CzUx-j5G9Dst",
        "outputId": "2f127310-2d04-492f-e6b0-3a1cda641976"
      },
      "outputs": [
        {
          "name": "stdout",
          "output_type": "stream",
          "text": [
            "Requirement already satisfied: flask-ngrok in /usr/local/lib/python3.7/dist-packages (0.0.25)\n",
            "Requirement already satisfied: requests in /usr/local/lib/python3.7/dist-packages (from flask-ngrok) (2.23.0)\n",
            "Requirement already satisfied: Flask>=0.8 in /usr/local/lib/python3.7/dist-packages (from flask-ngrok) (1.1.4)\n",
            "Requirement already satisfied: itsdangerous<2.0,>=0.24 in /usr/local/lib/python3.7/dist-packages (from Flask>=0.8->flask-ngrok) (1.1.0)\n",
            "Requirement already satisfied: Jinja2<3.0,>=2.10.1 in /usr/local/lib/python3.7/dist-packages (from Flask>=0.8->flask-ngrok) (2.11.3)\n",
            "Requirement already satisfied: Werkzeug<2.0,>=0.15 in /usr/local/lib/python3.7/dist-packages (from Flask>=0.8->flask-ngrok) (1.0.1)\n",
            "Requirement already satisfied: click<8.0,>=5.1 in /usr/local/lib/python3.7/dist-packages (from Flask>=0.8->flask-ngrok) (7.1.2)\n",
            "Requirement already satisfied: MarkupSafe>=0.23 in /usr/local/lib/python3.7/dist-packages (from Jinja2<3.0,>=2.10.1->Flask>=0.8->flask-ngrok) (2.0.1)\n",
            "Requirement already satisfied: certifi>=2017.4.17 in /usr/local/lib/python3.7/dist-packages (from requests->flask-ngrok) (2021.10.8)\n",
            "Requirement already satisfied: urllib3!=1.25.0,!=1.25.1,<1.26,>=1.21.1 in /usr/local/lib/python3.7/dist-packages (from requests->flask-ngrok) (1.24.3)\n",
            "Requirement already satisfied: idna<3,>=2.5 in /usr/local/lib/python3.7/dist-packages (from requests->flask-ngrok) (2.10)\n",
            "Requirement already satisfied: chardet<4,>=3.0.2 in /usr/local/lib/python3.7/dist-packages (from requests->flask-ngrok) (3.0.4)\n"
          ]
        }
      ],
      "source": [
        "!pip install flask-ngrok\n",
        "# # !pip install flask-bootstrap"
      ]
    },
    {
      "cell_type": "code",
      "execution_count": null,
      "metadata": {
        "id": "CpOPUOybiA5H"
      },
      "outputs": [],
      "source": [
        "!curl -s https://ngrok-agent.s3.amazonaws.com/ngrok.asc | sudo tee /etc/apt/trusted.gpg.d/ngrok.asc >/dev/null && echo \"deb https://ngrok-agent.s3.amazonaws.com buster main\" | sudo tee /etc/apt/sources.list.d/ngrok.list && sudo apt update && sudo apt install ngrok   "
      ]
    },
    {
      "cell_type": "code",
      "execution_count": null,
      "metadata": {
        "colab": {
          "base_uri": "https://localhost:8080/"
        },
        "id": "5d6gc2oGib6r",
        "outputId": "23f4fc64-0795-4540-8761-b5aca02c23f0"
      },
      "outputs": [
        {
          "name": "stdout",
          "output_type": "stream",
          "text": [
            "Authtoken saved to configuration file: /root/.ngrok2/ngrok.yml\n"
          ]
        }
      ],
      "source": [
        "!ngrok authtoken 26myWhdKL3FJvSiQfVOLduesolf_3iGZpQGynAH14orGSyv9z"
      ]
    },
    {
      "cell_type": "code",
      "execution_count": null,
      "metadata": {
        "colab": {
          "background_save": true,
          "base_uri": "https://localhost:8080/"
        },
        "id": "uCcK0DQwdkx3",
        "outputId": "88db9d8d-403e-4e71-85e8-9bd7f77a1dca"
      },
      "outputs": [
        {
          "name": "stdout",
          "output_type": "stream",
          "text": [
            " * Serving Flask app \"__main__\" (lazy loading)\n",
            " * Environment: production\n",
            "\u001b[31m   WARNING: This is a development server. Do not use it in a production deployment.\u001b[0m\n",
            "\u001b[2m   Use a production WSGI server instead.\u001b[0m\n",
            " * Debug mode: off\n"
          ]
        },
        {
          "name": "stderr",
          "output_type": "stream",
          "text": [
            " * Running on http://127.0.0.1:5000/ (Press CTRL+C to quit)\n"
          ]
        },
        {
          "name": "stdout",
          "output_type": "stream",
          "text": [
            " * Running on http://7336-35-189-172-105.ngrok.io\n",
            " * Traffic stats available on http://127.0.0.1:4040\n"
          ]
        },
        {
          "name": "stderr",
          "output_type": "stream",
          "text": [
            "[2022-03-30 03:55:40,118] ERROR in app: Exception on / [GET]\n",
            "Traceback (most recent call last):\n",
            "  File \"/usr/local/lib/python3.7/dist-packages/flask/app.py\", line 2447, in wsgi_app\n",
            "    response = self.full_dispatch_request()\n",
            "  File \"/usr/local/lib/python3.7/dist-packages/flask/app.py\", line 1952, in full_dispatch_request\n",
            "    rv = self.handle_user_exception(e)\n",
            "  File \"/usr/local/lib/python3.7/dist-packages/flask/app.py\", line 1821, in handle_user_exception\n",
            "    reraise(exc_type, exc_value, tb)\n",
            "  File \"/usr/local/lib/python3.7/dist-packages/flask/_compat.py\", line 39, in reraise\n",
            "    raise value\n",
            "  File \"/usr/local/lib/python3.7/dist-packages/flask/app.py\", line 1950, in full_dispatch_request\n",
            "    rv = self.dispatch_request()\n",
            "  File \"/usr/local/lib/python3.7/dist-packages/flask/app.py\", line 1936, in dispatch_request\n",
            "    return self.view_functions[rule.endpoint](**req.view_args)\n",
            "  File \"<ipython-input-42-22bc5f20aea6>\", line 20, in upload_image\n",
            "    return render_template('index.html')\n",
            "  File \"/usr/local/lib/python3.7/dist-packages/flask/templating.py\", line 140, in render_template\n",
            "    ctx.app,\n",
            "  File \"/usr/local/lib/python3.7/dist-packages/flask/templating.py\", line 120, in _render\n",
            "    rv = template.render(context)\n",
            "  File \"/usr/local/lib/python3.7/dist-packages/jinja2/environment.py\", line 1090, in render\n",
            "    self.environment.handle_exception()\n",
            "  File \"/usr/local/lib/python3.7/dist-packages/jinja2/environment.py\", line 832, in handle_exception\n",
            "    reraise(*rewrite_traceback_stack(source=source))\n",
            "  File \"/usr/local/lib/python3.7/dist-packages/jinja2/_compat.py\", line 28, in reraise\n",
            "    raise value.with_traceback(tb)\n",
            "  File \"/content/templates/index.html\", line 18, in top-level template code\n",
            "    <!-- <img src=\"{{ url_for('display_image', filename=filename) }}\"> -->\n",
            "  File \"/usr/local/lib/python3.7/dist-packages/flask/helpers.py\", line 370, in url_for\n",
            "    return appctx.app.handle_url_build_error(error, endpoint, values)\n",
            "  File \"/usr/local/lib/python3.7/dist-packages/flask/app.py\", line 2216, in handle_url_build_error\n",
            "    reraise(exc_type, exc_value, tb)\n",
            "  File \"/usr/local/lib/python3.7/dist-packages/flask/_compat.py\", line 39, in reraise\n",
            "    raise value\n",
            "  File \"/usr/local/lib/python3.7/dist-packages/flask/helpers.py\", line 358, in url_for\n",
            "    endpoint, values, method=method, force_external=external\n",
            "  File \"/usr/local/lib/python3.7/dist-packages/werkzeug/routing.py\", line 2179, in build\n",
            "    raise BuildError(endpoint, values, method, self)\n",
            "werkzeug.routing.BuildError: Could not build url for endpoint 'display_image' with values ['filename']. Did you mean 'upload_image' instead?\n",
            "127.0.0.1 - - [30/Mar/2022 03:55:40] \"\u001b[35m\u001b[1mGET / HTTP/1.1\u001b[0m\" 500 -\n",
            "127.0.0.1 - - [30/Mar/2022 03:55:40] \"\u001b[33mGET /favicon.ico HTTP/1.1\u001b[0m\" 404 -\n"
          ]
        }
      ],
      "source": [
        "from flask_ngrok import run_with_ngrok\n",
        "from flask import Flask, render_template, request, flash, url_for, redirect\n",
        "import urllib.request\n",
        "from werkzeug.utils import secure_filename\n",
        "\n",
        "app = Flask(__name__)\n",
        "run_with_ngrok(app)   \n",
        "\n",
        "# @app.route('/')\n",
        "# def home():\n",
        "#     return render_template('index.html')\n",
        "  \n",
        "@app.route(\"/\", methods=[\"POST\", \"GET\"])\n",
        "def upload_image():\n",
        "  if request.method == \"POST\":\n",
        "    inputted_img = request.form[\"image\"]\n",
        "    print(\"image\")\n",
        "    return render_template('index.html', image = inputted_img)\n",
        "  else:\n",
        "    return render_template('index.html')\n",
        "#   file = request.files['image']\n",
        "#   if file not in request.files:\n",
        "#         flash('No file part')\n",
        "#         return redirect(request.url)\n",
        "\n",
        "#   if file.filename == '':\n",
        "#       flash('No image selected for uploading')\n",
        "#       return redirect(request.url)\n",
        "#   if file and allowed_file(file.filename):\n",
        "#       filename = secure_filename(file.filename)\n",
        "#       file.save(os.path.join(app.config['UPLOAD_FOLDER'], filename))\n",
        "#       #print('upload_image filename: ' + filename)\n",
        "#       flash('Image successfully uploaded and displayed below')\n",
        "#       return render_template('index.html', filename=filename)\n",
        "#   else:\n",
        "#       flash('Allowed image types are - png, jpg, jpeg, gif')\n",
        "#       return redirect(request.url)\n",
        "\n",
        "# @app.route('/display/<filename>')\n",
        "# def display_image(filename):\n",
        "#     #print('display_image filename: ' + filename)\n",
        "#     return redirect(url_for('static', filename='uploads/' + filename), code=301)\n",
        "    \n",
        "app.run()"
      ]
    }
  ],
  "metadata": {
    "colab": {
      "collapsed_sections": [],
      "name": "MELANOMA_DETECTION.ipynb",
      "provenance": [],
      "mount_file_id": "1TMPMIwLFhHO0CsJ18KFJXQVaF3iL1gt2",
      "authorship_tag": "ABX9TyO/dAV1sZlLOW8gz/HRQERi",
      "include_colab_link": true
    },
    "kernelspec": {
      "display_name": "Python 3",
      "name": "python3"
    },
    "language_info": {
      "name": "python"
    }
  },
  "nbformat": 4,
  "nbformat_minor": 0
}